{
 "cells": [
  {
   "cell_type": "code",
   "execution_count": 3,
   "metadata": {},
   "outputs": [],
   "source": [
    "import clip\n",
    "import torch\n",
    "from PIL import Image\n",
    "\n",
    "device = \"cuda\" if torch.cuda.is_available() else \"cpu\"\n",
    "model, preprocess = clip.load(\"ViT-B/32\", device=device)"
   ]
  },
  {
   "cell_type": "code",
   "execution_count": 13,
   "metadata": {},
   "outputs": [
    {
     "name": "stdout",
     "output_type": "stream",
     "text": [
      "The image most likely contains: an asian woman with a confidence of 0.73\n"
     ]
    }
   ],
   "source": [
    "image_path = \"../image-text/try.png\"\n",
    "image = preprocess(Image.open(image_path)).unsqueeze(0).to(device)\n",
    "\n",
    "labels = [\"an asian woman\", \"a white woman\", \"a black woman\", \"a latino woman\"]\n",
    "text = clip.tokenize(labels).to(device)\n",
    "\n",
    "with torch.no_grad():\n",
    "    image_features = model.encode_image(image)\n",
    "    text_features = model.encode_text(text)\n",
    "\n",
    "    logits_per_image, _ = model(image, text)\n",
    "    probabilities = logits_per_image.softmax(dim=-1).cpu().numpy()\n",
    "\n",
    "max_idx = probabilities.argmax()\n",
    "print(f\"The image most likely contains: {labels[max_idx]} with a confidence of {probabilities[0][max_idx]:.2f}\")"
   ]
  },
  {
   "cell_type": "code",
   "execution_count": 4,
   "metadata": {},
   "outputs": [
    {
     "data": {
      "text/plain": [
       "(array(['3-9', '50-59', '30-39', '20-29', 'more than 70', '40-49', '10-19',\n",
       "        '60-69', '0-2'], dtype=object),\n",
       " array(['Male', 'Female'], dtype=object),\n",
       " array(['East Asian', 'White', 'Latino_Hispanic', 'Southeast Asian',\n",
       "        'Black', 'Indian', 'Middle Eastern'], dtype=object))"
      ]
     },
     "execution_count": 4,
     "metadata": {},
     "output_type": "execute_result"
    }
   ],
   "source": [
    "import pandas as pd\n",
    "file_path = \"../fairface/fairface_label_val.csv\"\n",
    "data = pd.read_csv(file_path)\n",
    "\n",
    "age_prompts = data['age'].unique()\n",
    "gender_prompts = data['gender'].unique()\n",
    "race_prompts = data['race'].unique()\n",
    "\n",
    "age_prompts, gender_prompts, race_prompts"
   ]
  },
  {
   "cell_type": "code",
   "execution_count": 14,
   "metadata": {},
   "outputs": [],
   "source": [
    "import os\n",
    "from sklearn.metrics import accuracy_score\n",
    "\n",
    "age_prompts = ['3-9', '50-59', '30-39', '20-29', 'more than 70', '40-49', '10-19', '60-69', '0-2']\n",
    "gender_prompts = ['Male', 'Female']\n",
    "race_prompts = ['East Asian', 'White', 'Latino_Hispanic', 'Southeast Asian', 'Black', 'Indian', 'Middle Eastern']\n",
    "\n",
    "csv_file_path = \"../fairface/fairface_label_val.csv\"\n",
    "data = pd.read_csv(csv_file_path)"
   ]
  },
  {
   "cell_type": "code",
   "execution_count": 15,
   "metadata": {},
   "outputs": [],
   "source": [
    "data = data[:1000]"
   ]
  },
  {
   "cell_type": "code",
   "execution_count": 16,
   "metadata": {},
   "outputs": [
    {
     "name": "stderr",
     "output_type": "stream",
     "text": [
      "Processing data:  26%|██▌       | 256/1000 [34:13<1:39:28,  8.02s/it]\n"
     ]
    },
    {
     "ename": "TimeoutError",
     "evalue": "[Errno 60] Operation timed out",
     "output_type": "error",
     "traceback": [
      "\u001b[0;31m---------------------------------------------------------------------------\u001b[0m",
      "\u001b[0;31mTimeoutError\u001b[0m                              Traceback (most recent call last)",
      "Cell \u001b[0;32mIn[16], line 12\u001b[0m\n\u001b[1;32m     10\u001b[0m \u001b[38;5;28;01mfor\u001b[39;00m index, row \u001b[38;5;129;01min\u001b[39;00m tqdm(data\u001b[38;5;241m.\u001b[39miterrows(), total\u001b[38;5;241m=\u001b[39m\u001b[38;5;28mlen\u001b[39m(data), desc\u001b[38;5;241m=\u001b[39m\u001b[38;5;124m\"\u001b[39m\u001b[38;5;124mProcessing data\u001b[39m\u001b[38;5;124m\"\u001b[39m):\n\u001b[1;32m     11\u001b[0m     image_path \u001b[38;5;241m=\u001b[39m os\u001b[38;5;241m.\u001b[39mpath\u001b[38;5;241m.\u001b[39mjoin(\u001b[38;5;124m\"\u001b[39m\u001b[38;5;124m../fairface/fairface-img-margin025-trainval\u001b[39m\u001b[38;5;124m\"\u001b[39m, row[\u001b[38;5;124m'\u001b[39m\u001b[38;5;124mfile\u001b[39m\u001b[38;5;124m'\u001b[39m])  \u001b[38;5;66;03m# Update image base directory\u001b[39;00m\n\u001b[0;32m---> 12\u001b[0m     image \u001b[38;5;241m=\u001b[39m preprocess(\u001b[43mImage\u001b[49m\u001b[38;5;241;43m.\u001b[39;49m\u001b[43mopen\u001b[49m\u001b[43m(\u001b[49m\u001b[43mimage_path\u001b[49m\u001b[43m)\u001b[49m)\u001b[38;5;241m.\u001b[39munsqueeze(\u001b[38;5;241m0\u001b[39m)\u001b[38;5;241m.\u001b[39mto(device)\n\u001b[1;32m     14\u001b[0m     \u001b[38;5;66;03m# Encode image and text\u001b[39;00m\n\u001b[1;32m     15\u001b[0m     \u001b[38;5;28;01mwith\u001b[39;00m torch\u001b[38;5;241m.\u001b[39mno_grad():\n\u001b[1;32m     16\u001b[0m         \u001b[38;5;66;03m# Age\u001b[39;00m\n",
      "File \u001b[0;32m/opt/homebrew/Caskroom/miniforge/base/envs/cq1/lib/python3.9/site-packages/PIL/Image.py:3227\u001b[0m, in \u001b[0;36mopen\u001b[0;34m(fp, mode, formats)\u001b[0m\n\u001b[1;32m   3224\u001b[0m     fp \u001b[38;5;241m=\u001b[39m io\u001b[38;5;241m.\u001b[39mBytesIO(fp\u001b[38;5;241m.\u001b[39mread())\n\u001b[1;32m   3225\u001b[0m     exclusive_fp \u001b[38;5;241m=\u001b[39m \u001b[38;5;28;01mTrue\u001b[39;00m\n\u001b[0;32m-> 3227\u001b[0m prefix \u001b[38;5;241m=\u001b[39m \u001b[43mfp\u001b[49m\u001b[38;5;241;43m.\u001b[39;49m\u001b[43mread\u001b[49m\u001b[43m(\u001b[49m\u001b[38;5;241;43m16\u001b[39;49m\u001b[43m)\u001b[49m\n\u001b[1;32m   3229\u001b[0m preinit()\n\u001b[1;32m   3231\u001b[0m accept_warnings \u001b[38;5;241m=\u001b[39m []\n",
      "\u001b[0;31mTimeoutError\u001b[0m: [Errno 60] Operation timed out"
     ]
    }
   ],
   "source": [
    "from tqdm import tqdm\n",
    "\n",
    "true_ages = []\n",
    "true_genders = []\n",
    "true_races = []\n",
    "predicted_ages = []\n",
    "predicted_genders = []\n",
    "predicted_races = []\n",
    "\n",
    "for index, row in tqdm(data.iterrows(), total=len(data), desc=\"Processing data\"):\n",
    "    image_path = os.path.join(\"../fairface/fairface-img-margin025-trainval\", row['file'])  # Update image base directory\n",
    "    image = preprocess(Image.open(image_path)).unsqueeze(0).to(device)\n",
    "    \n",
    "    # Encode image and text\n",
    "    with torch.no_grad():\n",
    "        # Age\n",
    "        text_age = clip.tokenize(age_prompts).to(device)\n",
    "        image_features = model.encode_image(image)\n",
    "        text_features = model.encode_text(text_age)\n",
    "        logits_age = (image_features @ text_features.T).softmax(dim=-1)\n",
    "        predicted_ages.append(age_prompts[logits_age.argmax().item()])\n",
    "        \n",
    "        # Gender\n",
    "        text_gender = clip.tokenize(gender_prompts).to(device)\n",
    "        text_features = model.encode_text(text_gender)\n",
    "        logits_gender = (image_features @ text_features.T).softmax(dim=-1)\n",
    "        predicted_genders.append(gender_prompts[logits_gender.argmax().item()])\n",
    "        \n",
    "        # Race\n",
    "        text_race = clip.tokenize(race_prompts).to(device)\n",
    "        text_features = model.encode_text(text_race)\n",
    "        logits_race = (image_features @ text_features.T).softmax(dim=-1)\n",
    "        predicted_races.append(race_prompts[logits_race.argmax().item()])\n",
    "    \n",
    "    # Append true labels\n",
    "    true_ages.append(row['age'])\n",
    "    true_genders.append(row['gender'])\n",
    "    true_races.append(row['race'])\n",
    "\n",
    "# Calculate accuracy\n",
    "age_accuracy = accuracy_score(true_ages, predicted_ages)\n",
    "gender_accuracy = accuracy_score(true_genders, predicted_genders)\n",
    "race_accuracy = accuracy_score(true_races, predicted_races)\n",
    "\n",
    "print(f\"Age Prediction Accuracy: {age_accuracy:.2%}\")\n",
    "print(f\"Gender Prediction Accuracy: {gender_accuracy:.2%}\")\n",
    "print(f\"Race Prediction Accuracy: {race_accuracy:.2%}\")"
   ]
  },
  {
   "cell_type": "code",
   "execution_count": null,
   "metadata": {},
   "outputs": [],
   "source": []
  }
 ],
 "metadata": {
  "kernelspec": {
   "display_name": "cq1",
   "language": "python",
   "name": "python3"
  },
  "language_info": {
   "codemirror_mode": {
    "name": "ipython",
    "version": 3
   },
   "file_extension": ".py",
   "mimetype": "text/x-python",
   "name": "python",
   "nbconvert_exporter": "python",
   "pygments_lexer": "ipython3",
   "version": "3.9.16"
  }
 },
 "nbformat": 4,
 "nbformat_minor": 2
}
