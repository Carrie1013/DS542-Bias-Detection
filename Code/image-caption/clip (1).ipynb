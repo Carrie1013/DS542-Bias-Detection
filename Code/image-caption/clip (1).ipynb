{
 "cells": [
  {
   "cell_type": "code",
   "execution_count": 1,
   "metadata": {},
   "outputs": [],
   "source": [
    "import clip\n",
    "import torch\n",
    "from PIL import Image\n",
    "\n",
    "device = \"cuda\" if torch.cuda.is_available() else \"cpu\"\n",
    "model, preprocess = clip.load(\"ViT-B/32\", device=device)"
   ]
  },
  {
   "cell_type": "code",
   "execution_count": 13,
   "metadata": {},
   "outputs": [
    {
     "name": "stdout",
     "output_type": "stream",
     "text": [
      "The image most likely contains: an asian woman with a confidence of 0.73\n"
     ]
    }
   ],
   "source": [
    "image_path = \"../image-text/try.png\"\n",
    "image = preprocess(Image.open(image_path)).unsqueeze(0).to(device)\n",
    "\n",
    "labels = [\"an asian woman\", \"a white woman\", \"a black woman\", \"a latino woman\"]\n",
    "text = clip.tokenize(labels).to(device)\n",
    "\n",
    "with torch.no_grad():\n",
    "    image_features = model.encode_image(image)\n",
    "    text_features = model.encode_text(text)\n",
    "\n",
    "    logits_per_image, _ = model(image, text)\n",
    "    probabilities = logits_per_image.softmax(dim=-1).cpu().numpy()\n",
    "\n",
    "max_idx = probabilities.argmax()\n",
    "print(f\"The image most likely contains: {labels[max_idx]} with a confidence of {probabilities[0][max_idx]:.2f}\")"
   ]
  },
  {
   "cell_type": "code",
   "execution_count": 4,
   "metadata": {},
   "outputs": [
    {
     "data": {
      "text/plain": [
       "(array(['3-9', '50-59', '30-39', '20-29', 'more than 70', '40-49', '10-19',\n",
       "        '60-69', '0-2'], dtype=object),\n",
       " array(['Male', 'Female'], dtype=object),\n",
       " array(['East Asian', 'White', 'Latino_Hispanic', 'Southeast Asian',\n",
       "        'Black', 'Indian', 'Middle Eastern'], dtype=object))"
      ]
     },
     "execution_count": 4,
     "metadata": {},
     "output_type": "execute_result"
    }
   ],
   "source": [
    "import pandas as pd\n",
    "file_path = \"../fairface/fairface_label_val.csv\"\n",
    "data = pd.read_csv(file_path)\n",
    "\n",
    "age_prompts = data['age'].unique()\n",
    "gender_prompts = data['gender'].unique()\n",
    "race_prompts = data['race'].unique()\n",
    "\n",
    "age_prompts, gender_prompts, race_prompts"
   ]
  },
  {
   "cell_type": "code",
   "execution_count": 5,
   "metadata": {},
   "outputs": [],
   "source": [
    "import os\n",
    "import pandas as pd\n",
    "from sklearn.metrics import accuracy_score\n",
    "\n",
    "age_prompts = ['3-9', '50-59', '30-39', '20-29', 'more than 70', '40-49', '10-19', '60-69', '0-2']\n",
    "gender_prompts = ['Male', 'Female']\n",
    "race_prompts = ['East Asian', 'White', 'Latino_Hispanic', 'Southeast Asian', 'Black', 'Indian', 'Middle Eastern']\n",
    "\n",
    "csv_file_path = \"data/fairface_label_val.csv\"\n",
    "data = pd.read_csv(csv_file_path)"
   ]
  },
  {
   "cell_type": "code",
   "execution_count": 14,
   "metadata": {},
   "outputs": [],
   "source": [
    "# data = data[:10]"
   ]
  },
  {
   "cell_type": "code",
   "execution_count": 7,
   "metadata": {},
   "outputs": [
    {
     "name": "stderr",
     "output_type": "stream",
     "text": [
      "Processing data: 100%|██████████| 10954/10954 [04:00<00:00, 45.58it/s]"
     ]
    },
    {
     "name": "stdout",
     "output_type": "stream",
     "text": [
      "Gender Prediction Accuracy: 54.72%\n",
      "Race Prediction Accuracy: 36.26%\n"
     ]
    },
    {
     "name": "stderr",
     "output_type": "stream",
     "text": [
      "\n"
     ]
    }
   ],
   "source": [
    "from tqdm import tqdm\n",
    "\n",
    "true_genders = []\n",
    "true_races = []\n",
    "predicted_genders = []\n",
    "predicted_races = []\n",
    "\n",
    "for index, row in tqdm(data.iterrows(), total=len(data), desc=\"Processing data\"):\n",
    "\n",
    "    image_path = os.path.join(\"data\", row['file'])\n",
    "    # print(image_path)\n",
    "    image = preprocess(Image.open(image_path)).unsqueeze(0).to(device)\n",
    "    image_features = model.encode_image(image)\n",
    "    \n",
    "    # Encode image and text\n",
    "    with torch.no_grad():\n",
    "\n",
    "        # Gender\n",
    "        text_gender = clip.tokenize(gender_prompts).to(device)\n",
    "        text_features = model.encode_text(text_gender)\n",
    "        logits_gender = (image_features @ text_features.T).softmax(dim=-1)\n",
    "        predicted_genders.append(gender_prompts[logits_gender.argmax().item()])\n",
    "        \n",
    "        # Race\n",
    "        text_race = clip.tokenize(race_prompts).to(device)\n",
    "        text_features = model.encode_text(text_race)\n",
    "        logits_race = (image_features @ text_features.T).softmax(dim=-1)\n",
    "        predicted_races.append(race_prompts[logits_race.argmax().item()])\n",
    "    \n",
    "    # Append true labels\n",
    "    true_genders.append(row['gender'])\n",
    "    true_races.append(row['race'])\n",
    "\n",
    "\n",
    "# Calculate accuracy\n",
    "gender_accuracy = accuracy_score(true_genders, predicted_genders)\n",
    "race_accuracy = accuracy_score(true_races, predicted_races)\n",
    "\n",
    "print(f\"Gender Prediction Accuracy: {gender_accuracy:.2%}\")\n",
    "print(f\"Race Prediction Accuracy: {race_accuracy:.2%}\")"
   ]
  },
  {
   "cell_type": "code",
   "execution_count": null,
   "metadata": {},
   "outputs": [],
   "source": []
  },
  {
   "cell_type": "code",
   "execution_count": null,
   "metadata": {},
   "outputs": [],
   "source": []
  }
 ],
 "metadata": {
  "kernelspec": {
   "display_name": "cq1",
   "language": "python",
   "name": "python3"
  },
  "language_info": {
   "codemirror_mode": {
    "name": "ipython",
    "version": 3
   },
   "file_extension": ".py",
   "mimetype": "text/x-python",
   "name": "python",
   "nbconvert_exporter": "python",
   "pygments_lexer": "ipython3",
   "version": "3.9.19"
  }
 },
 "nbformat": 4,
 "nbformat_minor": 2
}
