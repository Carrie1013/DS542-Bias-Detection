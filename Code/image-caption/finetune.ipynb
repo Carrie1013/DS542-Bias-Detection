{
 "cells": [
  {
   "cell_type": "code",
   "execution_count": null,
   "metadata": {},
   "outputs": [],
   "source": [
    "import os\n",
    "import clip\n",
    "import torch\n",
    "import torch.nn as nn\n",
    "from torch.utils.data import DataLoader, Dataset\n",
    "from PIL import Image\n",
    "import pandas as pd\n",
    "from sklearn.metrics import accuracy_score\n",
    "from tqdm import tqdm\n",
    "\n",
    "age_prompts = ['age 3-9', 'age 50-59', 'age 30-39', 'age 20-29', 'age more than 70', 'age 40-49', 'age 10-19', 'age 60-69', 'age 0-2']\n",
    "gender_prompts = ['Male', 'Female']\n",
    "race_prompts = ['East Asian', 'White', 'Latino_Hispanic', 'Southeast Asian', 'Black', 'Indian', 'Middle Eastern']\n",
    "\n",
    "csv_file_path = \"../fairface/fairface_label_val.csv\"\n",
    "data = pd.read_csv(csv_file_path)"
   ]
  },
  {
   "cell_type": "code",
   "execution_count": null,
   "metadata": {},
   "outputs": [],
   "source": [
    "class FairfaceDataset(Dataset):\n",
    "    def __init__(self, csv_file, image_dir, transforms, target_cols):\n",
    "        self.data = pd.read_csv(csv_file)\n",
    "        self.image_dir = image_dir\n",
    "        self.transforms = transforms\n",
    "        self.target_cols = target_cols\n",
    "        \n",
    "        # Filter valid rows with existing image files\n",
    "        self.valid_data = self.data[self.data['file'].apply(\n",
    "            lambda x: os.path.exists(os.path.join(self.image_dir, x))\n",
    "        )]\n",
    "        self.missing_count = len(self.data) - len(self.valid_data)\n",
    "        if self.missing_count > 0:\n",
    "            print(f\"Warning: {self.missing_count} files are missing and will be skipped.\")\n",
    "\n",
    "    def __len__(self):\n",
    "        return len(self.valid_data)\n",
    "\n",
    "    def __getitem__(self, idx):\n",
    "        row = self.valid_data.iloc[idx]\n",
    "        image_path = os.path.join(self.image_dir, row['file'])\n",
    "        image = Image.open(image_path).convert(\"RGB\")\n",
    "        image = self.transforms(image)\n",
    "\n",
    "        targets = {col: row[col] for col in self.target_cols}\n",
    "        return image, targets\n",
    "\n",
    "\n",
    "def fine_tune_clip(train_csv, val_csv, image_dir, output_dir, epochs=2, batch_size=10, lr=1e-4):\n",
    "\n",
    "    device = \"cuda\" if torch.cuda.is_available() else \"cpu\"\n",
    "    model, preprocess = clip.load(\"ViT-B/32\", device=device)\n",
    "    \n",
    "    for param in model.visual.parameters():\n",
    "        param.requires_grad = False\n",
    "    \n",
    "    num_classes = {\n",
    "        \"age\": len(age_prompts),\n",
    "        \"gender\": len(gender_prompts),\n",
    "        \"race\": len(race_prompts)\n",
    "    }\n",
    "    classification_heads = {\n",
    "        col: nn.Linear(model.visual.output_dim, num_classes[col]).to(device)\n",
    "        for col in num_classes\n",
    "    }\n",
    "\n",
    "    # Optimizer\n",
    "    params = [p for head in classification_heads.values() for p in head.parameters()]\n",
    "    optimizer = torch.optim.Adam(params, lr=lr)\n",
    "    criterion = nn.CrossEntropyLoss()\n",
    "\n",
    "    # Datasets\n",
    "    train_dataset = FairfaceDataset(train_csv, image_dir, preprocess, target_cols=[\"age\", \"gender\", \"race\"])\n",
    "    val_dataset = FairfaceDataset(val_csv, image_dir, preprocess, target_cols=[\"age\", \"gender\", \"race\"])\n",
    "    train_loader = DataLoader(train_dataset, batch_size=batch_size, shuffle=True)\n",
    "    val_loader = DataLoader(val_dataset, batch_size=batch_size, shuffle=False)\n",
    "\n",
    "    # Train\n",
    "    for epoch in range(epochs):\n",
    "        model.train()\n",
    "        for images, targets in tqdm(train_loader, desc=f\"Epoch {epoch+1}/{epochs}\"):\n",
    "            images = images.to(device)\n",
    "            losses = []\n",
    "            for col, head in classification_heads.items():\n",
    "                labels = torch.tensor([age_prompts.index(label) if col == \"age\" else\n",
    "                               gender_prompts.index(label) if col == \"gender\" else\n",
    "                               race_prompts.index(label)\n",
    "                               for label in targets[col]]).to(device)\n",
    "                logits = head(model.visual(images))\n",
    "                loss = criterion(logits, labels)\n",
    "                losses.append(loss)\n",
    "\n",
    "            # Backpropagation\n",
    "            total_loss = sum(losses)\n",
    "            optimizer.zero_grad()\n",
    "            total_loss.backward()\n",
    "            optimizer.step()\n",
    "\n",
    "\n",
    "        # Validation\n",
    "        model.eval()\n",
    "        val_accuracies = {col: [] for col in classification_heads}\n",
    "        with torch.no_grad():\n",
    "            for images, targets in tqdm(val_loader, desc=\"Validating\"):\n",
    "                images = images.to(device)\n",
    "                for col, head in classification_heads.items():\n",
    "                    labels = torch.tensor([age_prompts.index(label) if col == \"age\" else\n",
    "                               gender_prompts.index(label) if col == \"gender\" else\n",
    "                               race_prompts.index(label)\n",
    "                               for label in targets[col]]).to(device)\n",
    "                    logits = head(model.visual(images))\n",
    "                    preds = logits.argmax(dim=-1)\n",
    "                    accuracy = accuracy_score(labels.cpu(), preds.cpu())\n",
    "                    val_accuracies[col].append(accuracy)\n",
    "\n",
    "        # Validation Result\n",
    "        print(f\"Epoch {epoch+1}/{epochs}\")\n",
    "        for col, accuracies in val_accuracies.items():\n",
    "            print(f\"{col} accuracy: {sum(accuracies)/len(accuracies):.2%}\")\n",
    "\n",
    "    # Save fine-tuned model\n",
    "    for col, head in classification_heads.items():\n",
    "        torch.save(head.state_dict(), os.path.join(output_dir, f\"{col}_head.pth\"))"
   ]
  },
  {
   "cell_type": "code",
   "execution_count": null,
   "metadata": {},
   "outputs": [
    {
     "name": "stdout",
     "output_type": "stream",
     "text": [
      "Warning: 2 files are missing and will be skipped.\n",
      "Warning: 2 files are missing and will be skipped.\n"
     ]
    },
    {
     "name": "stderr",
     "output_type": "stream",
     "text": [
      "Epoch 1/2:   0%|          | 0/10 [00:00<?, ?it/s]"
     ]
    },
    {
     "name": "stdout",
     "output_type": "stream",
     "text": [
      "{'age': ['50-59', '20-29', '10-19', '20-29', '0-2', '40-49', '30-39', '60-69', '50-59', '30-39'], 'gender': ['Female', 'Female', 'Female', 'Female', 'Female', 'Male', 'Male', 'Male', 'Male', 'Female'], 'race': ['White', 'Indian', 'Latino_Hispanic', 'East Asian', 'Black', 'Latino_Hispanic', 'Latino_Hispanic', 'East Asian', 'East Asian', 'White']}\n"
     ]
    },
    {
     "name": "stderr",
     "output_type": "stream",
     "text": [
      "Epoch 1/2:  10%|█         | 1/10 [00:20<03:05, 20.64s/it]"
     ]
    },
    {
     "name": "stdout",
     "output_type": "stream",
     "text": [
      "{'age': ['30-39', '20-29', '20-29', '10-19', '10-19', '20-29', '30-39', '30-39', '20-29', '3-9'], 'gender': ['Female', 'Female', 'Female', 'Female', 'Male', 'Male', 'Male', 'Female', 'Female', 'Female'], 'race': ['Black', 'Black', 'Black', 'Indian', 'Indian', 'Black', 'East Asian', 'Black', 'Indian', 'Black']}\n"
     ]
    },
    {
     "name": "stderr",
     "output_type": "stream",
     "text": [
      "Epoch 1/2:  20%|██        | 2/10 [00:36<02:22, 17.82s/it]"
     ]
    },
    {
     "name": "stdout",
     "output_type": "stream",
     "text": [
      "{'age': ['20-29', '20-29', '40-49', '10-19', '30-39', '20-29', '3-9', '10-19', '20-29', '20-29'], 'gender': ['Female', 'Female', 'Male', 'Male', 'Male', 'Male', 'Female', 'Female', 'Female', 'Male'], 'race': ['Latino_Hispanic', 'Southeast Asian', 'Indian', 'Indian', 'Indian', 'White', 'East Asian', 'Latino_Hispanic', 'Middle Eastern', 'Black']}\n"
     ]
    },
    {
     "name": "stderr",
     "output_type": "stream",
     "text": [
      "Epoch 1/2:  30%|███       | 3/10 [00:57<02:14, 19.20s/it]"
     ]
    },
    {
     "name": "stdout",
     "output_type": "stream",
     "text": [
      "{'age': ['30-39', '60-69', '20-29', '30-39', '20-29', '30-39', '10-19', '20-29', '60-69', '50-59'], 'gender': ['Female', 'Female', 'Male', 'Male', 'Male', 'Male', 'Male', 'Female', 'Female', 'Male'], 'race': ['Indian', 'Indian', 'Southeast Asian', 'Latino_Hispanic', 'Southeast Asian', 'Indian', 'Indian', 'Indian', 'Middle Eastern', 'Southeast Asian']}\n"
     ]
    },
    {
     "name": "stderr",
     "output_type": "stream",
     "text": [
      "Epoch 1/2:  40%|████      | 4/10 [01:28<02:24, 24.12s/it]"
     ]
    },
    {
     "name": "stdout",
     "output_type": "stream",
     "text": [
      "{'age': ['60-69', '3-9', '50-59', '10-19', '20-29', '20-29', '20-29', '50-59', '30-39', '20-29'], 'gender': ['Male', 'Female', 'Male', 'Female', 'Female', 'Female', 'Male', 'Male', 'Female', 'Female'], 'race': ['Latino_Hispanic', 'Latino_Hispanic', 'White', 'White', 'White', 'Southeast Asian', 'Indian', 'Southeast Asian', 'White', 'White']}\n"
     ]
    },
    {
     "name": "stderr",
     "output_type": "stream",
     "text": [
      "Epoch 1/2:  50%|█████     | 5/10 [01:52<01:59, 23.82s/it]"
     ]
    },
    {
     "name": "stdout",
     "output_type": "stream",
     "text": [
      "{'age': ['20-29', '40-49', '60-69', '20-29', '20-29', '40-49', '10-19', '20-29', '0-2', '50-59'], 'gender': ['Male', 'Female', 'Male', 'Female', 'Male', 'Female', 'Female', 'Male', 'Female', 'Male'], 'race': ['Latino_Hispanic', 'Black', 'White', 'Southeast Asian', 'East Asian', 'Latino_Hispanic', 'Southeast Asian', 'Black', 'East Asian', 'Indian']}\n"
     ]
    },
    {
     "name": "stderr",
     "output_type": "stream",
     "text": [
      "Epoch 1/2:  60%|██████    | 6/10 [02:15<01:34, 23.50s/it]"
     ]
    },
    {
     "name": "stdout",
     "output_type": "stream",
     "text": [
      "{'age': ['30-39', '50-59', '30-39', '10-19', '20-29', '40-49', '40-49', '30-39', '60-69', '10-19'], 'gender': ['Male', 'Female', 'Male', 'Female', 'Female', 'Male', 'Male', 'Female', 'Female', 'Male'], 'race': ['Latino_Hispanic', 'Black', 'White', 'Latino_Hispanic', 'Black', 'White', 'Latino_Hispanic', 'Indian', 'Indian', 'White']}\n"
     ]
    },
    {
     "name": "stderr",
     "output_type": "stream",
     "text": [
      "Epoch 1/2:  70%|███████   | 7/10 [02:39<01:10, 23.61s/it]"
     ]
    },
    {
     "name": "stdout",
     "output_type": "stream",
     "text": [
      "{'age': ['20-29', '20-29', '20-29', '30-39', '50-59', '40-49', '30-39', '40-49', '30-39', '30-39'], 'gender': ['Male', 'Female', 'Male', 'Female', 'Female', 'Male', 'Male', 'Male', 'Female', 'Female'], 'race': ['East Asian', 'Latino_Hispanic', 'White', 'White', 'Black', 'Indian', 'Indian', 'Middle Eastern', 'Latino_Hispanic', 'White']}\n"
     ]
    },
    {
     "name": "stderr",
     "output_type": "stream",
     "text": [
      "Epoch 1/2:  80%|████████  | 8/10 [03:07<00:50, 25.12s/it]"
     ]
    },
    {
     "name": "stdout",
     "output_type": "stream",
     "text": [
      "{'age': ['3-9', '30-39', '30-39', '50-59', '10-19', '30-39', '10-19', '3-9', '40-49', '30-39'], 'gender': ['Female', 'Female', 'Male', 'Male', 'Female', 'Female', 'Female', 'Male', 'Male', 'Male'], 'race': ['Middle Eastern', 'White', 'Southeast Asian', 'Southeast Asian', 'Southeast Asian', 'East Asian', 'Black', 'East Asian', 'Middle Eastern', 'Latino_Hispanic']}\n"
     ]
    },
    {
     "name": "stderr",
     "output_type": "stream",
     "text": [
      "Epoch 1/2:  90%|█████████ | 9/10 [03:29<00:24, 24.14s/it]"
     ]
    },
    {
     "name": "stdout",
     "output_type": "stream",
     "text": [
      "{'age': ['30-39', '50-59', '30-39', '10-19', '10-19', '30-39', '40-49'], 'gender': ['Female', 'Male', 'Male', 'Female', 'Female', 'Male', 'Male'], 'race': ['Middle Eastern', 'Middle Eastern', 'White', 'East Asian', 'Black', 'White', 'Southeast Asian']}\n"
     ]
    },
    {
     "name": "stderr",
     "output_type": "stream",
     "text": [
      "Epoch 1/2: 100%|██████████| 10/10 [03:49<00:00, 22.95s/it]\n",
      "Validating: 100%|██████████| 10/10 [00:52<00:00,  5.25s/it]\n"
     ]
    },
    {
     "name": "stdout",
     "output_type": "stream",
     "text": [
      "Epoch 1/2\n",
      "age accuracy: 25.86%\n",
      "gender accuracy: 52.14%\n",
      "race accuracy: 13.86%\n"
     ]
    },
    {
     "name": "stderr",
     "output_type": "stream",
     "text": [
      "Epoch 2/2:   0%|          | 0/10 [00:00<?, ?it/s]"
     ]
    },
    {
     "name": "stdout",
     "output_type": "stream",
     "text": [
      "{'age': ['40-49', '60-69', '3-9', '10-19', '40-49', '50-59', '20-29', '50-59', '30-39', '20-29'], 'gender': ['Male', 'Female', 'Male', 'Female', 'Male', 'Male', 'Female', 'Male', 'Female', 'Female'], 'race': ['Middle Eastern', 'Indian', 'East Asian', 'Black', 'Indian', 'White', 'Southeast Asian', 'Southeast Asian', 'Indian', 'Middle Eastern']}\n"
     ]
    },
    {
     "name": "stderr",
     "output_type": "stream",
     "text": [
      "Epoch 2/2:  10%|█         | 1/10 [00:05<00:51,  5.69s/it]"
     ]
    },
    {
     "name": "stdout",
     "output_type": "stream",
     "text": [
      "{'age': ['10-19', '50-59', '10-19', '30-39', '0-2', '20-29', '20-29', '60-69', '30-39', '20-29'], 'gender': ['Female', 'Male', 'Male', 'Female', 'Female', 'Female', 'Female', 'Female', 'Female', 'Male'], 'race': ['Black', 'Indian', 'Indian', 'White', 'East Asian', 'Latino_Hispanic', 'Indian', 'Middle Eastern', 'White', 'Latino_Hispanic']}\n"
     ]
    },
    {
     "name": "stderr",
     "output_type": "stream",
     "text": [
      "Epoch 2/2:  20%|██        | 2/10 [00:10<00:42,  5.37s/it]"
     ]
    },
    {
     "name": "stdout",
     "output_type": "stream",
     "text": [
      "{'age': ['40-49', '30-39', '50-59', '20-29', '20-29', '30-39', '20-29', '10-19', '3-9', '10-19'], 'gender': ['Female', 'Female', 'Male', 'Female', 'Female', 'Male', 'Female', 'Female', 'Female', 'Female'], 'race': ['Black', 'White', 'Southeast Asian', 'White', 'Southeast Asian', 'White', 'Black', 'East Asian', 'Middle Eastern', 'Latino_Hispanic']}\n"
     ]
    },
    {
     "name": "stderr",
     "output_type": "stream",
     "text": [
      "Epoch 2/2:  30%|███       | 3/10 [00:16<00:38,  5.50s/it]"
     ]
    },
    {
     "name": "stdout",
     "output_type": "stream",
     "text": [
      "{'age': ['50-59', '30-39', '3-9', '60-69', '50-59', '20-29', '60-69', '10-19', '30-39', '40-49'], 'gender': ['Male', 'Male', 'Female', 'Male', 'Male', 'Male', 'Female', 'Female', 'Male', 'Male'], 'race': ['Southeast Asian', 'East Asian', 'Latino_Hispanic', 'East Asian', 'Middle Eastern', 'White', 'Indian', 'Southeast Asian', 'Latino_Hispanic', 'White']}\n"
     ]
    },
    {
     "name": "stderr",
     "output_type": "stream",
     "text": [
      "Epoch 2/2:  40%|████      | 4/10 [00:22<00:35,  5.85s/it]"
     ]
    },
    {
     "name": "stdout",
     "output_type": "stream",
     "text": [
      "{'age': ['20-29', '20-29', '20-29', '40-49', '30-39', '60-69', '20-29', '30-39', '40-49', '20-29'], 'gender': ['Male', 'Female', 'Male', 'Male', 'Male', 'Male', 'Female', 'Female', 'Male', 'Female'], 'race': ['White', 'Black', 'Southeast Asian', 'Latino_Hispanic', 'Latino_Hispanic', 'White', 'Black', 'Indian', 'Indian', 'Indian']}\n"
     ]
    },
    {
     "name": "stderr",
     "output_type": "stream",
     "text": [
      "Epoch 2/2:  50%|█████     | 5/10 [00:28<00:29,  5.89s/it]"
     ]
    },
    {
     "name": "stdout",
     "output_type": "stream",
     "text": [
      "{'age': ['10-19', '30-39', '40-49', '10-19', '30-39', '20-29', '60-69', '3-9', '30-39', '30-39'], 'gender': ['Male', 'Female', 'Female', 'Female', 'Female', 'Female', 'Male', 'Female', 'Female', 'Male'], 'race': ['Indian', 'Latino_Hispanic', 'Latino_Hispanic', 'Latino_Hispanic', 'White', 'East Asian', 'Latino_Hispanic', 'Black', 'White', 'Latino_Hispanic']}\n"
     ]
    },
    {
     "name": "stderr",
     "output_type": "stream",
     "text": [
      "Epoch 2/2:  60%|██████    | 6/10 [00:35<00:24,  6.22s/it]"
     ]
    },
    {
     "name": "stdout",
     "output_type": "stream",
     "text": [
      "{'age': ['30-39', '30-39', '20-29', '40-49', '40-49', '50-59', '20-29', '30-39', '20-29', '20-29'], 'gender': ['Female', 'Male', 'Female', 'Male', 'Male', 'Female', 'Female', 'Male', 'Female', 'Male'], 'race': ['Middle Eastern', 'Indian', 'Latino_Hispanic', 'Middle Eastern', 'Latino_Hispanic', 'Black', 'Indian', 'Indian', 'White', 'Southeast Asian']}\n"
     ]
    },
    {
     "name": "stderr",
     "output_type": "stream",
     "text": [
      "Epoch 2/2:  70%|███████   | 7/10 [00:41<00:18,  6.05s/it]"
     ]
    },
    {
     "name": "stdout",
     "output_type": "stream",
     "text": [
      "{'age': ['10-19', '10-19', '10-19', '0-2', '20-29', '20-29', '10-19', '30-39', '20-29', '50-59'], 'gender': ['Female', 'Female', 'Male', 'Female', 'Male', 'Male', 'Female', 'Male', 'Male', 'Female'], 'race': ['Latino_Hispanic', 'Indian', 'Indian', 'Black', 'Black', 'Indian', 'Southeast Asian', 'Southeast Asian', 'East Asian', 'White']}\n"
     ]
    },
    {
     "name": "stderr",
     "output_type": "stream",
     "text": [
      "Epoch 2/2:  80%|████████  | 8/10 [00:46<00:11,  5.74s/it]"
     ]
    },
    {
     "name": "stdout",
     "output_type": "stream",
     "text": [
      "{'age': ['30-39', '30-39', '30-39', '30-39', '20-29', '30-39', '40-49', '10-19', '3-9', '20-29'], 'gender': ['Male', 'Male', 'Female', 'Male', 'Female', 'Female', 'Male', 'Male', 'Female', 'Male'], 'race': ['White', 'Latino_Hispanic', 'East Asian', 'Indian', 'Southeast Asian', 'Black', 'Southeast Asian', 'White', 'East Asian', 'East Asian']}\n"
     ]
    },
    {
     "name": "stderr",
     "output_type": "stream",
     "text": [
      "Epoch 2/2:  90%|█████████ | 9/10 [00:52<00:05,  5.83s/it]"
     ]
    },
    {
     "name": "stdout",
     "output_type": "stream",
     "text": [
      "{'age': ['30-39', '50-59', '30-39', '50-59', '10-19', '20-29', '20-29'], 'gender': ['Male', 'Female', 'Female', 'Male', 'Female', 'Male', 'Male'], 'race': ['White', 'Black', 'Black', 'East Asian', 'White', 'Black', 'Black']}\n"
     ]
    },
    {
     "name": "stderr",
     "output_type": "stream",
     "text": [
      "Epoch 2/2: 100%|██████████| 10/10 [00:55<00:00,  5.51s/it]\n",
      "Validating: 100%|██████████| 10/10 [01:00<00:00,  6.07s/it]"
     ]
    },
    {
     "name": "stdout",
     "output_type": "stream",
     "text": [
      "Epoch 2/2\n",
      "age accuracy: 28.86%\n",
      "gender accuracy: 56.14%\n",
      "race accuracy: 18.86%\n"
     ]
    },
    {
     "name": "stderr",
     "output_type": "stream",
     "text": [
      "\n"
     ]
    }
   ],
   "source": [
    "# Paths\n",
    "train_csv = \"../fairface/fairface_label_train.csv\"\n",
    "val_csv = \"../fairface/fairface_label_val.csv\"\n",
    "image_dir = \"../fairface/fairface-img-margin025-trainval\"\n",
    "output_dir = \"../fairface/fine_tuned_clip\"\n",
    "os.makedirs(output_dir, exist_ok=True)\n",
    "\n",
    "fine_tune_clip(train_csv, val_csv, image_dir, output_dir)"
   ]
  },
  {
   "cell_type": "code",
   "execution_count": null,
   "metadata": {},
   "outputs": [
    {
     "data": {
      "text/plain": [
       "'/Users/qiaochufeng'"
      ]
     },
     "execution_count": 9,
     "metadata": {},
     "output_type": "execute_result"
    }
   ],
   "source": []
  },
  {
   "cell_type": "code",
   "execution_count": null,
   "metadata": {},
   "outputs": [],
   "source": []
  }
 ],
 "metadata": {
  "kernelspec": {
   "display_name": "cq1",
   "language": "python",
   "name": "python3"
  },
  "language_info": {
   "codemirror_mode": {
    "name": "ipython",
    "version": 3
   },
   "file_extension": ".py",
   "mimetype": "text/x-python",
   "name": "python",
   "nbconvert_exporter": "python",
   "pygments_lexer": "ipython3",
   "version": "3.9.16"
  }
 },
 "nbformat": 4,
 "nbformat_minor": 2
}
